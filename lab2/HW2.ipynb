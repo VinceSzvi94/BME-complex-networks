{
 "cells": [
  {
   "cell_type": "markdown",
   "id": "25263102",
   "metadata": {},
   "source": [
    "## Homework 2\n",
    "\n",
    "Implement the Klienberg model (slide 37 lecture 4) and measure the delivery time exponent\n",
    "1. create a periodic square lattice graph\n",
    "2. add a random link to each node with probability $p_{conn}\\sim r^{-\\alpha}$\n",
    "3. measure the graph and original lattice distance between point pairs (depending on the size of the network and the strength of your computer, you can use all pairs, from a few sources to all others, see e.g. nx.single_source_shortest_path_length(), etc.)"
   ]
  },
  {
   "cell_type": "code",
   "execution_count": null,
   "id": "a5b04e97",
   "metadata": {},
   "outputs": [],
   "source": []
  }
 ],
 "metadata": {
  "language_info": {
   "name": "python"
  }
 },
 "nbformat": 4,
 "nbformat_minor": 5
}
